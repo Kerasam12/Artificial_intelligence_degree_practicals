{
  "cells": [
    {
      "cell_type": "markdown",
      "metadata": {
        "id": "-JGr-h1xvTOZ"
      },
      "source": [
        "# MNIST Simple Pointer Network\n",
        "\n",
        "In this notebook we will learn how to create a simple [Pointer Network](https://arxiv.org/abs/1506.03134) (Vinyals et al. 2015) for solving a dummy task on the MNIST dataset.\n",
        "\n",
        "A Pointer Network uses the **attention mechanism’s** output to model the conditional probability of each element on its input. This can be extremely useful in tasks that require selecting one (or more) elements of the input sequence/set to be solved.\n",
        "\n",
        "In this notebook we will play with a simple Pointer net to solve the following task: Given an MNIST image with a (query) digit we want our model to find the image that contains the consecutive digit to the query image among a set of input images. For example, imagine we use an image with the digit \"5\" as query and let the input of the model be a set of 10 images with different digits, the output of our model must be a probability distribution over those 10 images indicating the presence or not of the digit \"6\" in each of them."
      ]
    },
    {
      "cell_type": "code",
      "execution_count": null,
      "metadata": {
        "colab": {
          "base_uri": "https://localhost:8080/"
        },
        "id": "h4Z7-Wm7_5K6",
        "outputId": "1b9997da-6a88-4e81-c9f0-6f83acb88f08"
      },
      "outputs": [
        {
          "output_type": "stream",
          "name": "stdout",
          "text": [
            "PyTorch Version:  2.0.0+cu118\n"
          ]
        }
      ],
      "source": [
        "import torch\n",
        "import torchvision\n",
        "import torch.nn as nn\n",
        "import torch.optim as optim\n",
        "import numpy as np\n",
        "from torch.utils.data import Dataset, DataLoader\n",
        "\n",
        "import matplotlib.pyplot as plt\n",
        "from collections import Counter\n",
        "import time\n",
        "import os\n",
        "import copy\n",
        "print(\"PyTorch Version: \",torch.__version__)"
      ]
    },
    {
      "cell_type": "code",
      "execution_count": null,
      "metadata": {
        "id": "RNJh2q4lQGYF",
        "outputId": "83428759-9f61-40b2-b7f3-764b341ca929",
        "colab": {
          "base_uri": "https://localhost:8080/"
        }
      },
      "outputs": [
        {
          "output_type": "stream",
          "name": "stdout",
          "text": [
            "Using device: cuda\n"
          ]
        }
      ],
      "source": [
        "#If this cell fails you need to change the runtime of your colab notebook to GPU\n",
        "# Go to Runtime -> Change Runtime Type and select GPU\n",
        "assert torch.cuda.is_available(), \"GPU is not enabled\"\n",
        "\n",
        "#  use gpu if available\n",
        "device = torch.device(\"cuda\" if torch.cuda.is_available() else \"cpu\")\n",
        "print(\"Using device:\", device)"
      ]
    },
    {
      "cell_type": "markdown",
      "metadata": {
        "id": "CyM0DXter9Mp"
      },
      "source": [
        "### Create the dataset\n",
        "\n",
        "Let's start creating a Dataset class to understand better the task we want to solve. Each sample in out dataset will be formed by:\n",
        "\n",
        "* a query image\n",
        "* a set of 10 images, 9 of them selected randomly (distractors) and one selected as the consecutive digit of the digit in the query image.\n",
        "* the ground truth: a 10-D one hot vector indicating the position of the image we want our model to select (\"point to\")."
      ]
    },
    {
      "cell_type": "code",
      "execution_count": null,
      "metadata": {
        "id": "XksdVS7GHWw0"
      },
      "outputs": [],
      "source": [
        "class MNISTAttentionDataset(Dataset):\n",
        "    \"\"\"MNIST attention toy dataset.\"\"\"\n",
        "\n",
        "    def __init__(self, num_inputs, train=True):\n",
        "        \"\"\"\n",
        "        Args:\n",
        "            num_inputs (int) - The number of images in the input of our model.\n",
        "            train (bool, optional) – If True, creates dataset from MNIST training\n",
        "                samples, otherwise from test\n",
        "        \"\"\"\n",
        "\n",
        "        self.num_inputs = num_inputs\n",
        "        self.mnist = torchvision.datasets.MNIST('../data', train=train, download=True)\n",
        "\n",
        "        # dict with samples for each class label\n",
        "        self.data = {}\n",
        "        for label in range(10):\n",
        "            #Collect in separate lists the different digits, and normalise values to [0, 1]\n",
        "            self.data[label] = self.mnist.data[self.mnist.targets == label] / 255.0\n",
        "\n",
        "\n",
        "\n",
        "    def __len__(self):\n",
        "        # The length makes little sense here, as we generate samples dynamically\n",
        "        # Here we return the number of images originally in the dataset\n",
        "        return self.mnist.data.shape[0]\n",
        "\n",
        "    def __getitem__(self, idx):\n",
        "        \"\"\"\n",
        "        Args:\n",
        "            idx (int) - an index indicating which digit should be used as query\n",
        "        \"\"\"\n",
        "        c = self.mnist.targets[idx].item()     # Find out which is the class of the digit requested\n",
        "        query = (self.mnist.data[idx]/255).flatten() # Get the data for the digit requested\n",
        "\n",
        "        correct_pos = np.random.randint(0, self.num_inputs) # Decide on a random position where the correct answer will be\n",
        "\n",
        "        inputs = np.zeros((self.num_inputs, 784)) # Create an array to hold the inputs (from which we have to select one)\n",
        "        for j in range(self.num_inputs):\n",
        "            if j == correct_pos: # In the correct position, place a random digit that comes from the c+1 class\n",
        "                idx = np.random.randint(0,self.data[(c+1)%10].shape[0])\n",
        "                inputs[j,:] = self.data[(c+1)%10][idx,:].flatten()\n",
        "            else: # In the rest of the positions, place random digits that come from the rest of the classes\n",
        "                c_distractor = np.random.choice([n for n in [0,1,2,3,4,5,6,7,8,9] if n!=(c+1)%10])\n",
        "                idx = np.random.randint(0,self.data[c_distractor].shape[0])\n",
        "                inputs[j,:] = self.data[c_distractor][idx,:].flatten()\n",
        "\n",
        "        sample = {'x': inputs, 'query': query, 'y': correct_pos}\n",
        "\n",
        "        return sample"
      ]
    },
    {
      "cell_type": "code",
      "execution_count": null,
      "metadata": {
        "id": "hL2kwN-kpjUc",
        "colab": {
          "base_uri": "https://localhost:8080/"
        },
        "outputId": "84dd9c1c-72f3-42ef-b746-01cb81815251"
      },
      "outputs": [
        {
          "output_type": "stream",
          "name": "stdout",
          "text": [
            "Downloading http://yann.lecun.com/exdb/mnist/train-images-idx3-ubyte.gz\n",
            "Downloading http://yann.lecun.com/exdb/mnist/train-images-idx3-ubyte.gz to ../data/MNIST/raw/train-images-idx3-ubyte.gz\n"
          ]
        },
        {
          "output_type": "stream",
          "name": "stderr",
          "text": [
            "100%|██████████| 9912422/9912422 [00:00<00:00, 470590293.43it/s]"
          ]
        },
        {
          "output_type": "stream",
          "name": "stdout",
          "text": [
            "Extracting ../data/MNIST/raw/train-images-idx3-ubyte.gz to ../data/MNIST/raw\n"
          ]
        },
        {
          "output_type": "stream",
          "name": "stderr",
          "text": [
            "\n"
          ]
        },
        {
          "output_type": "stream",
          "name": "stdout",
          "text": [
            "\n",
            "Downloading http://yann.lecun.com/exdb/mnist/train-labels-idx1-ubyte.gz\n",
            "Downloading http://yann.lecun.com/exdb/mnist/train-labels-idx1-ubyte.gz to ../data/MNIST/raw/train-labels-idx1-ubyte.gz\n"
          ]
        },
        {
          "output_type": "stream",
          "name": "stderr",
          "text": [
            "100%|██████████| 28881/28881 [00:00<00:00, 134744931.95it/s]\n"
          ]
        },
        {
          "output_type": "stream",
          "name": "stdout",
          "text": [
            "Extracting ../data/MNIST/raw/train-labels-idx1-ubyte.gz to ../data/MNIST/raw\n",
            "\n",
            "Downloading http://yann.lecun.com/exdb/mnist/t10k-images-idx3-ubyte.gz\n",
            "Downloading http://yann.lecun.com/exdb/mnist/t10k-images-idx3-ubyte.gz to ../data/MNIST/raw/t10k-images-idx3-ubyte.gz\n"
          ]
        },
        {
          "output_type": "stream",
          "name": "stderr",
          "text": [
            "100%|██████████| 1648877/1648877 [00:00<00:00, 113675297.04it/s]"
          ]
        },
        {
          "output_type": "stream",
          "name": "stdout",
          "text": [
            "Extracting ../data/MNIST/raw/t10k-images-idx3-ubyte.gz to ../data/MNIST/raw\n",
            "\n",
            "Downloading http://yann.lecun.com/exdb/mnist/t10k-labels-idx1-ubyte.gz\n",
            "Downloading http://yann.lecun.com/exdb/mnist/t10k-labels-idx1-ubyte.gz to ../data/MNIST/raw/t10k-labels-idx1-ubyte.gz\n"
          ]
        },
        {
          "output_type": "stream",
          "name": "stderr",
          "text": [
            "\n",
            "100%|██████████| 4542/4542 [00:00<00:00, 16103574.61it/s]\n"
          ]
        },
        {
          "output_type": "stream",
          "name": "stdout",
          "text": [
            "Extracting ../data/MNIST/raw/t10k-labels-idx1-ubyte.gz to ../data/MNIST/raw\n",
            "\n"
          ]
        }
      ],
      "source": [
        "num_inputs = 10\n",
        "\n",
        "train_dataset = MNISTAttentionDataset(num_inputs, train=True)\n",
        "test_dataset = MNISTAttentionDataset(num_inputs, train=False)\n",
        "\n",
        "train_loader = DataLoader(train_dataset, batch_size = 64, shuffle = True)\n",
        "test_loader  = DataLoader(test_dataset, batch_size = 1000)#, shuffle = True"
      ]
    },
    {
      "cell_type": "markdown",
      "metadata": {
        "id": "RES5R0CMr3bE"
      },
      "source": [
        "### Visualize one training sample"
      ]
    },
    {
      "cell_type": "code",
      "execution_count": null,
      "metadata": {
        "colab": {
          "base_uri": "https://localhost:8080/",
          "height": 137
        },
        "id": "fJY6zR_lqR41",
        "outputId": "2fdfb440-7dc8-4985-8af3-0dfd6ceac3c7"
      },
      "outputs": [
        {
          "output_type": "stream",
          "name": "stdout",
          "text": [
            "Data: (10, 784), Query: torch.Size([784])\n"
          ]
        },
        {
          "output_type": "display_data",
          "data": {
            "text/plain": [
              "<Figure size 3300x300 with 11 Axes>"
            ],
            "image/png": "[encoded data removed]"
          },
          "metadata": {}
        }
      ],
      "source": [
        "sample = train_dataset[0]\n",
        "\n",
        "print(f\"Data: {sample['x'].shape}, Query: {sample['query'].shape}\")\n",
        "\n",
        "fig = plt.figure(figsize=(33, 3))\n",
        "plt.tight_layout()\n",
        "\n",
        "ax = plt.subplot(1, num_inputs + 1, 1)\n",
        "image = sample['query'].reshape(28,28)\n",
        "plt.imshow(image, cmap='gray')\n",
        "plt.plot([0,27,27,0,0], [0,0,27,27,0], c='b') # Draw a blue box around the query sample\n",
        "ax.set_title('Query')\n",
        "ax.axis('off')\n",
        "\n",
        "for i in range(num_inputs):\n",
        "    ax = plt.subplot(1, num_inputs + 1, i+2)\n",
        "    ax.set_title('Sample #{}'.format(i))\n",
        "    ax.axis('off')\n",
        "    image = sample['x'][i].reshape(28,28)\n",
        "    plt.imshow(image, cmap='gray')\n",
        "    if i == sample['y']:\n",
        "        plt.plot([0,27,27,0,0], [0,0,27,27,0], c='g') # Draw a green box around the correct sample\n",
        "        ax.set_title('Target')\n",
        "    else:\n",
        "        plt.plot([0,27,27,0,0], [0,0,27,27,0], c='r') # Draw a blue box around the wrong sample\n",
        "        ax.set_title('Distractor #{}'.format(i))\n",
        "    ax.axis('off')\n",
        "\n",
        "plt.show()"
      ]
    },
    {
      "cell_type": "markdown",
      "metadata": {
        "id": "DVaMM-n2sFF6"
      },
      "source": [
        "### Create the model"
      ]
    },
    {
      "cell_type": "code",
      "execution_count": null,
      "metadata": {
        "id": "BesD8B1BAW9u"
      },
      "outputs": [],
      "source": [
        "class AttentionModel(nn.Module):\n",
        "    def __init__(self, input_dim, num_inputs, hidden_dim):\n",
        "        super(AttentionModel, self).__init__()\n",
        "        self.hidden_dim = hidden_dim\n",
        "        self.num_inputs = num_inputs\n",
        "        self.input_dim  = input_dim\n",
        "\n",
        "        # Weights (Fully Connected layers)\n",
        "        self.fc_q = nn.Linear(input_dim, hidden_dim) # Query FC\n",
        "        self.fc_k = nn.Linear(input_dim, hidden_dim) # Keys FC. Here the input acts as the keys, and there is no value\n",
        "        self.fc_v = nn.Linear(hidden_dim, 1) # Values FC\n",
        "\n",
        "    def scoringAdditive(self, query, keys):\n",
        "        # Query is                                              (B X 1 X input_dim)\n",
        "        # Repeat (tile) the query so that it has the same size as the keys (input)\n",
        "        query = query.repeat(1, self.num_inputs, 1)           # (B X num_inputs X input_dim)\n",
        "        query = torch.tanh(self.fc_q(query))                  # (B X num_inputs X hidden_dim)\n",
        "\n",
        "        # Keys is                                               (B X num_inputs X input_dim)\n",
        "        keys = torch.tanh(self.fc_k(keys))                    # (B X num_inputs X hidden_dim)\n",
        "\n",
        "        # Attention Score\n",
        "        score = torch.tanh(query + keys )                     # (B X num_inputs X hidden_dim)\n",
        "        score = self.fc_v(score)                              # (B X num_inputs X 1)\n",
        "        return score\n",
        "\n",
        "    def forward(self, x, query):\n",
        "        query = query.unsqueeze(1) # (B x input_dim) -> (B x 1 x input_dim)\n",
        "\n",
        "        # Calculate attention scores\n",
        "        output = self.scoringAdditive(query, x)\n",
        "        output = output.squeeze()       # (B x 1 x num_inputs) -> (B x num_inputs)\n",
        "        return output"
      ]
    },
    {
      "cell_type": "markdown",
      "metadata": {
        "id": "y_yCyvgg9Pbj"
      },
      "source": [
        "<font color=\"blue\">\n",
        "\n",
        "**QUESTION**: The Additive score gives logits that we should pass through a softmax to get the final attention weights. Why is there no softmax in the model above?</font>"
      ]
    },
    {
      "cell_type": "markdown",
      "metadata": {
        "id": "ChVOL2EPPKPE"
      },
      "source": [
        "---\n",
        "    \n",
        "**ANSWER**: Beause the softmax is already implemented in pytorch with the crossentropy loss function\n",
        "\n",
        "---"
      ]
    },
    {
      "cell_type": "code",
      "execution_count": null,
      "metadata": {
        "colab": {
          "base_uri": "https://localhost:8080/"
        },
        "id": "nsyUZE0lHJ5-",
        "outputId": "21d6782a-3576-4fa9-ad1d-fd05474f89a0"
      },
      "outputs": [
        {
          "output_type": "stream",
          "name": "stdout",
          "text": [
            "AttentionModel(\n",
            "  (fc_q): Linear(in_features=784, out_features=256, bias=True)\n",
            "  (fc_k): Linear(in_features=784, out_features=256, bias=True)\n",
            "  (fc_v): Linear(in_features=256, out_features=1, bias=True)\n",
            ")\n"
          ]
        }
      ],
      "source": [
        "input_dim, num_inputs, hidden_dim = (784, 10, 256)\n",
        "\n",
        "model = AttentionModel(input_dim, num_inputs, hidden_dim)\n",
        "print(model)"
      ]
    },
    {
      "cell_type": "markdown",
      "metadata": {
        "id": "xmp0kuk2z3Rx"
      },
      "source": [
        "### Define the training method and train"
      ]
    },
    {
      "cell_type": "code",
      "execution_count": null,
      "metadata": {
        "id": "6ZvGWqwDrc-V"
      },
      "outputs": [],
      "source": [
        "def train(model, device, train_loader, criterion, optimizer, epoch, log_interval = 100):\n",
        "    # Method to perform one epoch of training\n",
        "    model.train()\n",
        "    loss_values = []\n",
        "\n",
        "    for batch_idx, sample_batched in enumerate(train_loader):\n",
        "        data = sample_batched['x'].float()\n",
        "        query = sample_batched['query'].float()\n",
        "        target = sample_batched['y']\n",
        "        #print(data.shape, query.shape)\n",
        "        data, query, target = data.to(device), query.to(device), target.to(device)\n",
        "\n",
        "        optimizer.zero_grad()\n",
        "        output = model(data, query)\n",
        "        loss = criterion(output, target)\n",
        "        loss.backward()\n",
        "        optimizer.step()\n",
        "\n",
        "        loss_values.append(loss.detach().cpu().item())\n",
        "        if batch_idx % log_interval == 0:\n",
        "            print('Train Epoch: {} [{}/{} ({:.0f}%)]\\tLoss: {:.6f}'.format(\n",
        "                epoch, batch_idx * len(data), len(train_loader.dataset),\n",
        "                100. * batch_idx / len(train_loader), loss.item()))\n",
        "\n",
        "    return loss_values"
      ]
    },
    {
      "cell_type": "code",
      "execution_count": null,
      "metadata": {
        "colab": {
          "base_uri": "https://localhost:8080/"
        },
        "id": "L_ZTvDKRz9yx",
        "outputId": "5f20d5e1-9c16-4899-fbda-6fc9fd5a9580"
      },
      "outputs": [
        {
          "output_type": "stream",
          "name": "stdout",
          "text": [
            "Train Epoch: 1 [0/60000 (0%)]\tLoss: 2.308955\n",
            "Train Epoch: 1 [6400/60000 (11%)]\tLoss: 2.218750\n",
            "Train Epoch: 1 [12800/60000 (21%)]\tLoss: 2.081770\n",
            "Train Epoch: 1 [19200/60000 (32%)]\tLoss: 1.795880\n",
            "Train Epoch: 1 [25600/60000 (43%)]\tLoss: 1.654280\n",
            "Train Epoch: 1 [32000/60000 (53%)]\tLoss: 1.513982\n",
            "Train Epoch: 1 [38400/60000 (64%)]\tLoss: 1.552297\n",
            "Train Epoch: 1 [44800/60000 (75%)]\tLoss: 1.483229\n",
            "Train Epoch: 1 [51200/60000 (85%)]\tLoss: 1.284289\n",
            "Train Epoch: 1 [57600/60000 (96%)]\tLoss: 1.373075\n",
            "Train Epoch: 2 [0/60000 (0%)]\tLoss: 1.199604\n",
            "Train Epoch: 2 [6400/60000 (11%)]\tLoss: 1.266780\n",
            "Train Epoch: 2 [12800/60000 (21%)]\tLoss: 1.183454\n",
            "Train Epoch: 2 [19200/60000 (32%)]\tLoss: 1.079697\n",
            "Train Epoch: 2 [25600/60000 (43%)]\tLoss: 1.399975\n",
            "Train Epoch: 2 [32000/60000 (53%)]\tLoss: 1.187656\n",
            "Train Epoch: 2 [38400/60000 (64%)]\tLoss: 1.121835\n",
            "Train Epoch: 2 [44800/60000 (75%)]\tLoss: 1.066104\n",
            "Train Epoch: 2 [51200/60000 (85%)]\tLoss: 1.055676\n",
            "Train Epoch: 2 [57600/60000 (96%)]\tLoss: 1.033847\n",
            "Train Epoch: 3 [0/60000 (0%)]\tLoss: 1.294740\n",
            "Train Epoch: 3 [6400/60000 (11%)]\tLoss: 1.060893\n",
            "Train Epoch: 3 [12800/60000 (21%)]\tLoss: 1.069454\n",
            "Train Epoch: 3 [19200/60000 (32%)]\tLoss: 1.032436\n",
            "Train Epoch: 3 [25600/60000 (43%)]\tLoss: 0.997835\n",
            "Train Epoch: 3 [32000/60000 (53%)]\tLoss: 0.993943\n",
            "Train Epoch: 3 [38400/60000 (64%)]\tLoss: 1.040973\n",
            "Train Epoch: 3 [44800/60000 (75%)]\tLoss: 1.025868\n",
            "Train Epoch: 3 [51200/60000 (85%)]\tLoss: 1.006002\n",
            "Train Epoch: 3 [57600/60000 (96%)]\tLoss: 0.835863\n",
            "Train Epoch: 4 [0/60000 (0%)]\tLoss: 1.116863\n",
            "Train Epoch: 4 [6400/60000 (11%)]\tLoss: 0.977155\n",
            "Train Epoch: 4 [12800/60000 (21%)]\tLoss: 0.841975\n",
            "Train Epoch: 4 [19200/60000 (32%)]\tLoss: 0.970039\n",
            "Train Epoch: 4 [25600/60000 (43%)]\tLoss: 0.841609\n",
            "Train Epoch: 4 [32000/60000 (53%)]\tLoss: 0.970087\n",
            "Train Epoch: 4 [38400/60000 (64%)]\tLoss: 0.689964\n",
            "Train Epoch: 4 [44800/60000 (75%)]\tLoss: 0.955772\n",
            "Train Epoch: 4 [51200/60000 (85%)]\tLoss: 0.936898\n",
            "Train Epoch: 4 [57600/60000 (96%)]\tLoss: 0.728162\n",
            "Train Epoch: 5 [0/60000 (0%)]\tLoss: 0.937261\n",
            "Train Epoch: 5 [6400/60000 (11%)]\tLoss: 1.078622\n",
            "Train Epoch: 5 [12800/60000 (21%)]\tLoss: 0.928146\n",
            "Train Epoch: 5 [19200/60000 (32%)]\tLoss: 1.000258\n",
            "Train Epoch: 5 [25600/60000 (43%)]\tLoss: 1.034071\n",
            "Train Epoch: 5 [32000/60000 (53%)]\tLoss: 0.898733\n",
            "Train Epoch: 5 [38400/60000 (64%)]\tLoss: 0.954237\n",
            "Train Epoch: 5 [44800/60000 (75%)]\tLoss: 0.757042\n",
            "Train Epoch: 5 [51200/60000 (85%)]\tLoss: 0.797810\n",
            "Train Epoch: 5 [57600/60000 (96%)]\tLoss: 0.592095\n",
            "Train Epoch: 6 [0/60000 (0%)]\tLoss: 1.075930\n",
            "Train Epoch: 6 [6400/60000 (11%)]\tLoss: 0.763377\n",
            "Train Epoch: 6 [12800/60000 (21%)]\tLoss: 1.001845\n",
            "Train Epoch: 6 [19200/60000 (32%)]\tLoss: 0.525421\n",
            "Train Epoch: 6 [25600/60000 (43%)]\tLoss: 0.738093\n",
            "Train Epoch: 6 [32000/60000 (53%)]\tLoss: 0.826686\n",
            "Train Epoch: 6 [38400/60000 (64%)]\tLoss: 0.769994\n",
            "Train Epoch: 6 [44800/60000 (75%)]\tLoss: 0.878126\n",
            "Train Epoch: 6 [51200/60000 (85%)]\tLoss: 1.010755\n",
            "Train Epoch: 6 [57600/60000 (96%)]\tLoss: 0.763465\n",
            "Train Epoch: 7 [0/60000 (0%)]\tLoss: 0.661117\n",
            "Train Epoch: 7 [6400/60000 (11%)]\tLoss: 0.936593\n",
            "Train Epoch: 7 [12800/60000 (21%)]\tLoss: 0.778552\n",
            "Train Epoch: 7 [19200/60000 (32%)]\tLoss: 0.701138\n",
            "Train Epoch: 7 [25600/60000 (43%)]\tLoss: 0.741323\n",
            "Train Epoch: 7 [32000/60000 (53%)]\tLoss: 0.996881\n",
            "Train Epoch: 7 [38400/60000 (64%)]\tLoss: 0.835579\n",
            "Train Epoch: 7 [44800/60000 (75%)]\tLoss: 0.904342\n",
            "Train Epoch: 7 [51200/60000 (85%)]\tLoss: 0.781976\n",
            "Train Epoch: 7 [57600/60000 (96%)]\tLoss: 0.794946\n",
            "Train Epoch: 8 [0/60000 (0%)]\tLoss: 0.899011\n",
            "Train Epoch: 8 [6400/60000 (11%)]\tLoss: 0.870172\n",
            "Train Epoch: 8 [12800/60000 (21%)]\tLoss: 0.799470\n",
            "Train Epoch: 8 [19200/60000 (32%)]\tLoss: 0.890396\n",
            "Train Epoch: 8 [25600/60000 (43%)]\tLoss: 0.700627\n",
            "Train Epoch: 8 [32000/60000 (53%)]\tLoss: 0.894488\n",
            "Train Epoch: 8 [38400/60000 (64%)]\tLoss: 0.836303\n",
            "Train Epoch: 8 [44800/60000 (75%)]\tLoss: 0.857160\n",
            "Train Epoch: 8 [51200/60000 (85%)]\tLoss: 0.920505\n",
            "Train Epoch: 8 [57600/60000 (96%)]\tLoss: 0.868273\n",
            "Train Epoch: 9 [0/60000 (0%)]\tLoss: 0.682732\n",
            "Train Epoch: 9 [6400/60000 (11%)]\tLoss: 0.949540\n",
            "Train Epoch: 9 [12800/60000 (21%)]\tLoss: 0.782250\n",
            "Train Epoch: 9 [19200/60000 (32%)]\tLoss: 0.633719\n",
            "Train Epoch: 9 [25600/60000 (43%)]\tLoss: 0.884206\n",
            "Train Epoch: 9 [32000/60000 (53%)]\tLoss: 0.820018\n",
            "Train Epoch: 9 [38400/60000 (64%)]\tLoss: 0.587375\n",
            "Train Epoch: 9 [44800/60000 (75%)]\tLoss: 0.690883\n",
            "Train Epoch: 9 [51200/60000 (85%)]\tLoss: 0.732771\n",
            "Train Epoch: 9 [57600/60000 (96%)]\tLoss: 0.736972\n",
            "Train Epoch: 10 [0/60000 (0%)]\tLoss: 0.771863\n",
            "Train Epoch: 10 [6400/60000 (11%)]\tLoss: 0.894744\n",
            "Train Epoch: 10 [12800/60000 (21%)]\tLoss: 0.708654\n",
            "Train Epoch: 10 [19200/60000 (32%)]\tLoss: 0.762159\n",
            "Train Epoch: 10 [25600/60000 (43%)]\tLoss: 0.863080\n",
            "Train Epoch: 10 [32000/60000 (53%)]\tLoss: 0.520520\n",
            "Train Epoch: 10 [38400/60000 (64%)]\tLoss: 0.861810\n",
            "Train Epoch: 10 [44800/60000 (75%)]\tLoss: 0.639163\n",
            "Train Epoch: 10 [51200/60000 (85%)]\tLoss: 0.753742\n",
            "Train Epoch: 10 [57600/60000 (96%)]\tLoss: 0.666911\n"
          ]
        }
      ],
      "source": [
        "model = model.to(device)\n",
        "\n",
        "optimizer = optim.Adam(model.parameters())\n",
        "\n",
        "criterion = nn.CrossEntropyLoss()\n",
        "\n",
        "epochs = 10\n",
        "\n",
        "loss_history = []\n",
        "for epoch in range(1, epochs + 1):\n",
        "    loss_values = train(model, device, train_loader, criterion, optimizer, epoch)\n",
        "    loss_history += loss_values"
      ]
    },
    {
      "cell_type": "code",
      "execution_count": null,
      "metadata": {
        "colab": {
          "base_uri": "https://localhost:8080/",
          "height": 447
        },
        "id": "V1VFBe_Y0Cxx",
        "outputId": "3b09ecd4-4938-4613-fee0-51ec447744cb"
      },
      "outputs": [
        {
          "output_type": "execute_result",
          "data": {
            "text/plain": [
              "[<matplotlib.lines.Line2D at 0x7fe3b316a410>]"
            ]
          },
          "metadata": {},
          "execution_count": 12
        },
        {
          "output_type": "display_data",
          "data": {
            "text/plain": [
              "<Figure size 640x480 with 1 Axes>"
            ],
            "image/png": "[encoded data removed]"
          },
          "metadata": {}
        }
      ],
      "source": [
        "plt.plot(loss_history)"
      ]
    },
    {
      "cell_type": "markdown",
      "metadata": {
        "id": "jONlgxyaEwC6"
      },
      "source": [
        "### Evaluate the trained model"
      ]
    },
    {
      "cell_type": "code",
      "execution_count": null,
      "metadata": {
        "id": "izgtCdk5DV01"
      },
      "outputs": [],
      "source": [
        "def evaluate(model, device, test_loader):\n",
        "    model.eval()\n",
        "    total = 0.\n",
        "    ok = 0.\n",
        "    for batch_idx, sample_batched in enumerate(test_loader):\n",
        "        data = sample_batched['x'].float()\n",
        "        query = sample_batched['query'].float()\n",
        "        target = sample_batched['y'].numpy()\n",
        "        data, query = data.to(device), query.to(device)\n",
        "\n",
        "        output = model(data, query)\n",
        "        pred = np.argmax(output.detach().cpu().numpy(), axis=1)\n",
        "\n",
        "        ok += np.sum(pred == target)\n",
        "        total += len(test_loader)\n",
        "\n",
        "    print('Accuracy = ', ok/total)"
      ]
    },
    {
      "cell_type": "code",
      "execution_count": null,
      "metadata": {
        "colab": {
          "base_uri": "https://localhost:8080/"
        },
        "id": "JYQGuAXpGNU7",
        "outputId": "f39fb33f-dc36-4d26-df0b-d4ecb053a4f6"
      },
      "outputs": [
        {
          "output_type": "stream",
          "name": "stdout",
          "text": [
            "Accuracy =  77.46\n"
          ]
        }
      ],
      "source": [
        "evaluate(model, device, test_loader)"
      ]
    },
    {
      "cell_type": "markdown",
      "metadata": {
        "id": "CaOoDxjhhjxz"
      },
      "source": [
        "<font color=\"blue\">\n",
        "\n",
        "**EXERCISE 1**: Starting from the previous model as a template, implement the Dot-product Attention scoring function and substitute the additive one we were using before. Retrain and evalute the model.</font>\n",
        "\n",
        "<font color=\"blue\">\n",
        "\n",
        "> Hint: To transpose a tensor along specific dimensions you can use `torch.permute()`\n",
        "</font>\n",
        "\n",
        "\n",
        "<font color=\"blue\">\n",
        "\n",
        "> Hint: To perform a batch matrix-matrix product, use the function `torch.bmm()` https://pytorch.org/docs/stable/generated/torch.bmm.html\n",
        "</font>"
      ]
    },
    {
      "cell_type": "code",
      "source": [
        "# YOUR CODE HERE\n",
        "class AttentionModel(nn.Module):\n",
        "    def __init__(self, input_dim, num_inputs, hidden_dim):\n",
        "        super(AttentionModel, self).__init__()\n",
        "        self.hidden_dim = hidden_dim\n",
        "        self.num_inputs = num_inputs\n",
        "        self.input_dim  = input_dim\n",
        "\n",
        "        # Weights (Fully Connected layers)\n",
        "        self.fc_q = nn.Linear(input_dim, hidden_dim) # Query FC\n",
        "        self.fc_k = nn.Linear(input_dim, hidden_dim) # Keys FC. Here the input acts as the keys, and there is no value\n",
        "        self.fc_v = nn.Linear(hidden_dim, 1) # Values FC\n",
        "\n",
        "    def scoringAdditive(self, query, keys):\n",
        "        # Query is                                              (B X 1 X input_dim)\n",
        "        # Repeat (tile) the query so that it has the same size as the keys (input)\n",
        "        query = query.repeat(1, self.num_inputs, 1)           # (B X num_inputs X input_dim)\n",
        "        query = torch.tanh(self.fc_q(query))                  # (B X num_inputs X hidden_dim)\n",
        "\n",
        "        # Keys is                                               (B X num_inputs X input_dim)\n",
        "        keys = torch.tanh(self.fc_k(keys))                    # (B X num_inputs X hidden_dim)\n",
        "\n",
        "        # Attention Score\n",
        "        score = torch.tanh(query + keys )                     # (B X num_inputs X hidden_dim)\n",
        "        score = self.fc_v(score)                              # (B X num_inputs X 1)\n",
        "        return score\n",
        "\n",
        "    def scoringDotProduct(self, query, keys):\n",
        "        # Query is                                              (B X 1 X input_dim)\n",
        "        # Repeat (tile) the query so that it has the same size as the keys (input)\n",
        "        #query = query.repeat(1, self.num_inputs, 1)           # (B X num_inputs X input_dim)\n",
        "        query = torch.tanh(self.fc_q(query))                  # (B X num_inputs X hidden_dim)\n",
        "\n",
        "        # Keys is                                               (B X num_inputs X input_dim)\n",
        "        keys = torch.tanh(self.fc_k(keys))                    # (B X num_inputs X hidden_dim)\n",
        "\n",
        "        # Attention Score\n",
        "        score = torch.bmm(query,torch.permute(keys,(0,2,1)))/(torch.tensor([hidden_dim**(1/2)]).to(device))\n",
        "\n",
        "        #score = torch.softmax(torch.permute(sc,(0,2,1)),dim = 1)                     # (B X num_inputs X hidden_dim)\n",
        "                                  # (B X num_inputs X 1)\n",
        "        return score\n",
        "\n",
        "    def forward(self, x, query):\n",
        "        query = query.unsqueeze(1) # (B x input_dim) -> (B x 1 x input_dim)\n",
        "\n",
        "        # Calculate attention scores\n",
        "        output = self.scoringDotProduct(query, x)\n",
        "        output = output.squeeze()       # (B x 1 x num_inputs) -> (B x num_inputs)\n",
        "        return output"
      ],
      "metadata": {
        "id": "k6Rb6nM2G5-U"
      },
      "execution_count": null,
      "outputs": []
    },
    {
      "cell_type": "code",
      "source": [
        "input_dim, num_inputs, hidden_dim = (784, 10, 256)\n",
        "\n",
        "model = AttentionModel(input_dim, num_inputs, hidden_dim)\n",
        "print(model)"
      ],
      "metadata": {
        "colab": {
          "base_uri": "https://localhost:8080/"
        },
        "id": "xQQmh2keHBgk",
        "outputId": "ed7e1f78-8ff8-49e6-b5d5-0ec0512062d4"
      },
      "execution_count": null,
      "outputs": [
        {
          "output_type": "stream",
          "name": "stdout",
          "text": [
            "AttentionModel(\n",
            "  (fc_q): Linear(in_features=784, out_features=256, bias=True)\n",
            "  (fc_k): Linear(in_features=784, out_features=256, bias=True)\n",
            "  (fc_v): Linear(in_features=256, out_features=1, bias=True)\n",
            ")\n"
          ]
        }
      ]
    },
    {
      "cell_type": "code",
      "source": [
        "model = model.to(device)\n",
        "\n",
        "optimizer = optim.Adam(model.parameters())\n",
        "\n",
        "criterion = nn.CrossEntropyLoss()\n",
        "\n",
        "epochs = 10\n",
        "\n",
        "loss_history = []\n",
        "for epoch in range(1, epochs + 1):\n",
        "    loss_values = train(model, device, train_loader, criterion, optimizer, epoch)\n",
        "    loss_history += loss_values"
      ],
      "metadata": {
        "colab": {
          "base_uri": "https://localhost:8080/"
        },
        "id": "ar5bXgjgHBjB",
        "outputId": "437730d3-9916-4f1c-eb88-07690f94a5f4"
      },
      "execution_count": null,
      "outputs": [
        {
          "output_type": "stream",
          "name": "stdout",
          "text": [
            "Train Epoch: 1 [0/60000 (0%)]\tLoss: 2.301512\n",
            "Train Epoch: 1 [6400/60000 (11%)]\tLoss: 1.037692\n",
            "Train Epoch: 1 [12800/60000 (21%)]\tLoss: 0.936472\n",
            "Train Epoch: 1 [19200/60000 (32%)]\tLoss: 0.720040\n",
            "Train Epoch: 1 [25600/60000 (43%)]\tLoss: 0.643355\n",
            "Train Epoch: 1 [32000/60000 (53%)]\tLoss: 0.784757\n",
            "Train Epoch: 1 [38400/60000 (64%)]\tLoss: 0.555530\n",
            "Train Epoch: 1 [44800/60000 (75%)]\tLoss: 0.551456\n",
            "Train Epoch: 1 [51200/60000 (85%)]\tLoss: 0.609042\n",
            "Train Epoch: 1 [57600/60000 (96%)]\tLoss: 0.660795\n",
            "Train Epoch: 2 [0/60000 (0%)]\tLoss: 0.785932\n",
            "Train Epoch: 2 [6400/60000 (11%)]\tLoss: 0.535381\n",
            "Train Epoch: 2 [12800/60000 (21%)]\tLoss: 0.557765\n",
            "Train Epoch: 2 [19200/60000 (32%)]\tLoss: 0.367323\n",
            "Train Epoch: 2 [25600/60000 (43%)]\tLoss: 0.519630\n",
            "Train Epoch: 2 [32000/60000 (53%)]\tLoss: 0.454248\n",
            "Train Epoch: 2 [38400/60000 (64%)]\tLoss: 0.358112\n",
            "Train Epoch: 2 [44800/60000 (75%)]\tLoss: 0.324962\n",
            "Train Epoch: 2 [51200/60000 (85%)]\tLoss: 0.327507\n",
            "Train Epoch: 2 [57600/60000 (96%)]\tLoss: 0.407816\n",
            "Train Epoch: 3 [0/60000 (0%)]\tLoss: 0.308167\n",
            "Train Epoch: 3 [6400/60000 (11%)]\tLoss: 0.453181\n",
            "Train Epoch: 3 [12800/60000 (21%)]\tLoss: 0.326753\n",
            "Train Epoch: 3 [19200/60000 (32%)]\tLoss: 0.533901\n",
            "Train Epoch: 3 [25600/60000 (43%)]\tLoss: 0.571093\n",
            "Train Epoch: 3 [32000/60000 (53%)]\tLoss: 0.247084\n",
            "Train Epoch: 3 [38400/60000 (64%)]\tLoss: 0.550853\n",
            "Train Epoch: 3 [44800/60000 (75%)]\tLoss: 0.452237\n",
            "Train Epoch: 3 [51200/60000 (85%)]\tLoss: 0.440877\n",
            "Train Epoch: 3 [57600/60000 (96%)]\tLoss: 0.208021\n",
            "Train Epoch: 4 [0/60000 (0%)]\tLoss: 0.372618\n",
            "Train Epoch: 4 [6400/60000 (11%)]\tLoss: 0.466673\n",
            "Train Epoch: 4 [12800/60000 (21%)]\tLoss: 0.279968\n",
            "Train Epoch: 4 [19200/60000 (32%)]\tLoss: 0.211754\n",
            "Train Epoch: 4 [25600/60000 (43%)]\tLoss: 0.224351\n",
            "Train Epoch: 4 [32000/60000 (53%)]\tLoss: 0.325448\n",
            "Train Epoch: 4 [38400/60000 (64%)]\tLoss: 0.350618\n",
            "Train Epoch: 4 [44800/60000 (75%)]\tLoss: 0.511120\n",
            "Train Epoch: 4 [51200/60000 (85%)]\tLoss: 0.487809\n",
            "Train Epoch: 4 [57600/60000 (96%)]\tLoss: 0.454710\n",
            "Train Epoch: 5 [0/60000 (0%)]\tLoss: 0.350891\n",
            "Train Epoch: 5 [6400/60000 (11%)]\tLoss: 0.384137\n",
            "Train Epoch: 5 [12800/60000 (21%)]\tLoss: 0.438811\n",
            "Train Epoch: 5 [19200/60000 (32%)]\tLoss: 0.283419\n",
            "Train Epoch: 5 [25600/60000 (43%)]\tLoss: 0.247119\n",
            "Train Epoch: 5 [32000/60000 (53%)]\tLoss: 0.357085\n",
            "Train Epoch: 5 [38400/60000 (64%)]\tLoss: 0.302589\n",
            "Train Epoch: 5 [44800/60000 (75%)]\tLoss: 0.414193\n",
            "Train Epoch: 5 [51200/60000 (85%)]\tLoss: 0.296974\n",
            "Train Epoch: 5 [57600/60000 (96%)]\tLoss: 0.457290\n",
            "Train Epoch: 6 [0/60000 (0%)]\tLoss: 0.204898\n",
            "Train Epoch: 6 [6400/60000 (11%)]\tLoss: 0.310040\n",
            "Train Epoch: 6 [12800/60000 (21%)]\tLoss: 0.315858\n",
            "Train Epoch: 6 [19200/60000 (32%)]\tLoss: 0.247336\n",
            "Train Epoch: 6 [25600/60000 (43%)]\tLoss: 0.348817\n",
            "Train Epoch: 6 [32000/60000 (53%)]\tLoss: 0.256114\n",
            "Train Epoch: 6 [38400/60000 (64%)]\tLoss: 0.195258\n",
            "Train Epoch: 6 [44800/60000 (75%)]\tLoss: 0.274174\n",
            "Train Epoch: 6 [51200/60000 (85%)]\tLoss: 0.257297\n",
            "Train Epoch: 6 [57600/60000 (96%)]\tLoss: 0.399748\n",
            "Train Epoch: 7 [0/60000 (0%)]\tLoss: 0.357693\n",
            "Train Epoch: 7 [6400/60000 (11%)]\tLoss: 0.282748\n",
            "Train Epoch: 7 [12800/60000 (21%)]\tLoss: 0.240439\n",
            "Train Epoch: 7 [19200/60000 (32%)]\tLoss: 0.393321\n",
            "Train Epoch: 7 [25600/60000 (43%)]\tLoss: 0.292079\n",
            "Train Epoch: 7 [32000/60000 (53%)]\tLoss: 0.353628\n",
            "Train Epoch: 7 [38400/60000 (64%)]\tLoss: 0.342052\n",
            "Train Epoch: 7 [44800/60000 (75%)]\tLoss: 0.260996\n",
            "Train Epoch: 7 [51200/60000 (85%)]\tLoss: 0.332550\n",
            "Train Epoch: 7 [57600/60000 (96%)]\tLoss: 0.384554\n",
            "Train Epoch: 8 [0/60000 (0%)]\tLoss: 0.273745\n",
            "Train Epoch: 8 [6400/60000 (11%)]\tLoss: 0.330366\n",
            "Train Epoch: 8 [12800/60000 (21%)]\tLoss: 0.261177\n",
            "Train Epoch: 8 [19200/60000 (32%)]\tLoss: 0.340191\n",
            "Train Epoch: 8 [25600/60000 (43%)]\tLoss: 0.209967\n",
            "Train Epoch: 8 [32000/60000 (53%)]\tLoss: 0.183614\n",
            "Train Epoch: 8 [38400/60000 (64%)]\tLoss: 0.267932\n",
            "Train Epoch: 8 [44800/60000 (75%)]\tLoss: 0.171807\n",
            "Train Epoch: 8 [51200/60000 (85%)]\tLoss: 0.193765\n",
            "Train Epoch: 8 [57600/60000 (96%)]\tLoss: 0.237369\n",
            "Train Epoch: 9 [0/60000 (0%)]\tLoss: 0.278392\n",
            "Train Epoch: 9 [6400/60000 (11%)]\tLoss: 0.262971\n",
            "Train Epoch: 9 [12800/60000 (21%)]\tLoss: 0.286971\n",
            "Train Epoch: 9 [19200/60000 (32%)]\tLoss: 0.406951\n",
            "Train Epoch: 9 [25600/60000 (43%)]\tLoss: 0.319551\n",
            "Train Epoch: 9 [32000/60000 (53%)]\tLoss: 0.179479\n",
            "Train Epoch: 9 [38400/60000 (64%)]\tLoss: 0.287967\n",
            "Train Epoch: 9 [44800/60000 (75%)]\tLoss: 0.252423\n",
            "Train Epoch: 9 [51200/60000 (85%)]\tLoss: 0.214105\n",
            "Train Epoch: 9 [57600/60000 (96%)]\tLoss: 0.334025\n",
            "Train Epoch: 10 [0/60000 (0%)]\tLoss: 0.268489\n",
            "Train Epoch: 10 [6400/60000 (11%)]\tLoss: 0.258384\n",
            "Train Epoch: 10 [12800/60000 (21%)]\tLoss: 0.239723\n",
            "Train Epoch: 10 [19200/60000 (32%)]\tLoss: 0.385500\n",
            "Train Epoch: 10 [25600/60000 (43%)]\tLoss: 0.183461\n",
            "Train Epoch: 10 [32000/60000 (53%)]\tLoss: 0.171439\n",
            "Train Epoch: 10 [38400/60000 (64%)]\tLoss: 0.240863\n",
            "Train Epoch: 10 [44800/60000 (75%)]\tLoss: 0.202548\n",
            "Train Epoch: 10 [51200/60000 (85%)]\tLoss: 0.203343\n",
            "Train Epoch: 10 [57600/60000 (96%)]\tLoss: 0.300438\n"
          ]
        }
      ]
    },
    {
      "cell_type": "code",
      "source": [
        "plt.plot(loss_history)"
      ],
      "metadata": {
        "colab": {
          "base_uri": "https://localhost:8080/",
          "height": 447
        },
        "id": "_W0PQtweJN4l",
        "outputId": "20abb177-30fd-4d32-fab7-48d93ef24764"
      },
      "execution_count": null,
      "outputs": [
        {
          "output_type": "execute_result",
          "data": {
            "text/plain": [
              "[<matplotlib.lines.Line2D at 0x7fe85f50c100>]"
            ]
          },
          "metadata": {},
          "execution_count": 27
        },
        {
          "output_type": "display_data",
          "data": {
            "text/plain": [
              "<Figure size 640x480 with 1 Axes>"
            ],
            "image/png": "[encoded data removed]"
          },
          "metadata": {}
        }
      ]
    },
    {
      "cell_type": "code",
      "source": [
        "evaluate(model, device, test_loader)"
      ],
      "metadata": {
        "colab": {
          "base_uri": "https://localhost:8080/"
        },
        "id": "MYnrkYfFHBla",
        "outputId": "0acb45e9-645b-4ba3-98c3-3727ecff732a"
      },
      "execution_count": null,
      "outputs": [
        {
          "output_type": "stream",
          "name": "stdout",
          "text": [
            "Accuracy =  93.27\n"
          ]
        }
      ]
    },
    {
      "cell_type": "code",
      "source": [],
      "metadata": {
        "id": "wQ4QQfE-HPZc"
      },
      "execution_count": null,
      "outputs": []
    }
  ],
  "metadata": {
    "accelerator": "GPU",
    "colab": {
      "provenance": []
    },
    "kernelspec": {
      "display_name": "pytorch",
      "language": "python",
      "name": "pytorch"
    },
    "language_info": {
      "codemirror_mode": {
        "name": "ipython",
        "version": 3
      },
      "file_extension": ".py",
      "mimetype": "text/x-python",
      "name": "python",
      "nbconvert_exporter": "python",
      "pygments_lexer": "ipython3",
      "version": "3.9.16"
    }
  },
  "nbformat": 4,
  "nbformat_minor": 0
}